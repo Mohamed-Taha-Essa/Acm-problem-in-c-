{
 "cells": [
  {
   "cell_type": "code",
   "execution_count": 15,
   "metadata": {},
   "outputs": [
    {
     "name": "stdout",
     "output_type": "stream",
     "text": [
      "RGB\n",
      "RRR\n",
      "<class 'str'>\n",
      "2\n",
      "R\n",
      "G\n",
      "B\n"
     ]
    }
   ],
   "source": [
    "\n",
    "s=input()\n",
    "c = input()\n",
    "counter =0\n",
    "for i in range(len(c)):\n",
    "    if(c[i] == s[counter]):\n",
    "            counter+=1\n",
    "counter+=1\n",
    "print(type(s))\n",
    "print(counter)\n",
    "for i in s :\n",
    "    print(i)"
   ]
  },
  {
   "cell_type": "code",
   "execution_count": null,
   "metadata": {},
   "outputs": [],
   "source": []
  }
 ],
 "metadata": {
  "kernelspec": {
   "display_name": "Python 3",
   "language": "python",
   "name": "python3"
  },
  "language_info": {
   "codemirror_mode": {
    "name": "ipython",
    "version": 3
   },
   "file_extension": ".py",
   "mimetype": "text/x-python",
   "name": "python",
   "nbconvert_exporter": "python",
   "pygments_lexer": "ipython3",
   "version": "3.8.5"
  }
 },
 "nbformat": 4,
 "nbformat_minor": 4
}
