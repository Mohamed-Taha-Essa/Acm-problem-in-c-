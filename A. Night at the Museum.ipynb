{
 "cells": [
  {
   "cell_type": "code",
   "execution_count": 41,
   "metadata": {},
   "outputs": [
    {
     "name": "stdout",
     "output_type": "stream",
     "text": [
      "zeus\n",
      "18\n"
     ]
    }
   ],
   "source": [
    "name = input()\n",
    "\n",
    "Smoves = 0\n",
    "start = 0\n",
    "for i in range( 0 ,len(name)):\n",
    "    index = (ord(name[i]))- 97 \n",
    "    walk = abs(start - index)\n",
    "    if(walk < 13):\n",
    "        Smoves =Smoves +walk\n",
    "    else:\n",
    "        Smoves =Smoves+(26 -walk)  \n",
    "    \n",
    "    start = index \n",
    "        \n",
    "        \n",
    "print(Smoves)        \n",
    "        \n",
    "    "
   ]
  },
  {
   "cell_type": "code",
   "execution_count": null,
   "metadata": {},
   "outputs": [],
   "source": []
  }
 ],
 "metadata": {
  "kernelspec": {
   "display_name": "Python 3",
   "language": "python",
   "name": "python3"
  },
  "language_info": {
   "codemirror_mode": {
    "name": "ipython",
    "version": 3
   },
   "file_extension": ".py",
   "mimetype": "text/x-python",
   "name": "python",
   "nbconvert_exporter": "python",
   "pygments_lexer": "ipython3",
   "version": "3.8.5"
  }
 },
 "nbformat": 4,
 "nbformat_minor": 4
}
