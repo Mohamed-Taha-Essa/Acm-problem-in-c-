{
 "cells": [
  {
   "cell_type": "code",
   "execution_count": null,
   "metadata": {},
   "outputs": [],
   "source": [
    "\n",
    "up ,down = input() , input()\n",
    "\n",
    "l = [\"1/6\",\"1/3\",\"1/2\",\"2/3\",\"5/6\",\"/1/1\"]\n",
    "m = max(int(up),int(down))\n",
    "print(l[6-m])"
   ]
  },
  {
   "cell_type": "code",
   "execution_count": null,
   "metadata": {},
   "outputs": [],
   "source": [
    "\n",
    "#include<iostream>\n",
    "#include<cmath>\n",
    "#include<string>\n",
    "using namespace std;\n",
    " \n",
    " \n",
    "int main()\n",
    "{\n",
    "\tint x,y;\n",
    "\tstring die_roll[6]={\"1/6\",\"1/3\",\"1/2\",\"2/3\",\"5/6\",\"1/1\"};\n",
    "\tcin>>x>>y;\n",
    "\tx=max(x,y);\n",
    " \n",
    "\tcout << die_roll[6-x];\n",
    " \n",
    "\treturn 0 ;\n",
    "}"
   ]
  },
  {
   "cell_type": "code",
   "execution_count": null,
   "metadata": {},
   "outputs": [],
   "source": []
  }
 ],
 "metadata": {
  "kernelspec": {
   "display_name": "Python 3",
   "language": "python",
   "name": "python3"
  },
  "language_info": {
   "codemirror_mode": {
    "name": "ipython",
    "version": 3
   },
   "file_extension": ".py",
   "mimetype": "text/x-python",
   "name": "python",
   "nbconvert_exporter": "python",
   "pygments_lexer": "ipython3",
   "version": "3.8.5"
  }
 },
 "nbformat": 4,
 "nbformat_minor": 4
}
